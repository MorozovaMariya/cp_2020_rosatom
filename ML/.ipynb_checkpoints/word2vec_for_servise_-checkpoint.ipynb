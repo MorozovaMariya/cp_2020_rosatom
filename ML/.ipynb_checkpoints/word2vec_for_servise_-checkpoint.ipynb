{
 "cells": [
  {
   "cell_type": "code",
   "execution_count": 8,
   "metadata": {},
   "outputs": [],
   "source": [
    "from werkzeug.wrappers import Request, Response\n",
    "import pandas as pd\n",
    "import os\n",
    "import nltk\n",
    "#import pymorphy2\n",
    "import gensim.models as models\n",
    "from sklearn.metrics.pairwise import cosine_similarity\n",
    "import numpy as np\n",
    "from scipy import spatial\n",
    "\n",
    "import urllib.parse as urlparse\n",
    "from urllib.parse import parse_qs\n",
    "\n",
    "path = os.getcwd()\n",
    "dataset_path = path + '/data/data.csv'\n",
    "model_path = path + '/modeles/model_word2vec'\n",
    "\n",
    "#Загрузка данных\n",
    "data = pd.read_csv(dataset_path, header = 0, usecols=['mdmcodenomen','nomen'], sep = ',')"
   ]
  },
  {
   "cell_type": "code",
   "execution_count": 9,
   "metadata": {},
   "outputs": [],
   "source": [
    "def tokenize(text):\n",
    "    #  Разбивает текст на токены\n",
    "    tokens = nltk.word_tokenize(text.lower())\n",
    "    return tokens\n",
    "\n",
    "def preprocess_data(sentences):\n",
    "    # Делает препроцессинг для всех предложений, возвращает лист препроцесснутых слов\n",
    "    result = list()\n",
    "    for sentence in sentences:\n",
    "        result.append(tokenize(sentence))\n",
    "    return result\n",
    "\n",
    "def avg_vector(sentence, model, num_features, index2word_set):\n",
    "    words = sentence.split()\n",
    "    feature_vec = np.zeros((num_features, ), dtype='float32')\n",
    "    n_words = 0\n",
    "    for word in words:\n",
    "        if word in index2word_set:\n",
    "            n_words += 1\n",
    "            feature_vec = np.add(feature_vec, model[word])\n",
    "    if (n_words > 0):\n",
    "        feature_vec = np.divide(feature_vec, n_words)\n",
    "    return feature_vec\n",
    "\n"
   ]
  },
  {
   "cell_type": "code",
   "execution_count": 12,
   "metadata": {},
   "outputs": [],
   "source": [
    "def get_answ(q):\n",
    "    # Возвращает ответ\n",
    "    #q={\"id_request\":\"5243c597-af1a-4267-b30a-71ecd69951ec\",\"mdmcodenomen\":\"e80f28f0-1ae7-11eb-85b0-00232453feb3\",\"nomen\":\"Двутавр 10Б1 ГОСТ 26020/Ст3сп5 ГОСТ 535\"}\n",
    "    #q={\"id_request\":\"5243c597-af1a-4267-b30a-71ecd69951ec\",\"mdmcodenomen\":\"e80f28f0-1ae7-11eb-85b0-00232453feb3\",\"nomen\":\"Двутавр 20Б1 СТО АСЧМ 20-93 09Г2С-15 дл.12,0\"}\n",
    "    parsed = urlparse.urlparse(q)\n",
    "    id_request = parse_qs(parsed.query)['id_request']\n",
    "    mdmcodenomen = parse_qs(parsed.query)['mdmcodenomen']\n",
    "    nomen = parse_qs(parsed.query)['nomen']\n",
    "    \n",
    "    print(q)\n",
    "    print( 'Запрос на обработку от 1С:', '\\n', 'id_request = ', id_request, '\\n', 'mdmcodenomen = ',  mdmcodenomen, '\\n', 'nomen = ', nomen)\n",
    "\n",
    "    #Загрузка данных\n",
    "    data_load = pd.read_csv(dataset_path, header = 0, usecols=['mdmcodenomen','nomen'])\n",
    "    len(data_load)\n",
    "    print( 'Данные для модели загружены')\n",
    "\n",
    "    data_load.loc[len(data_load)] = [mdmcodenomen, nomen]\n",
    "    print( 'Обработка данных...')\n",
    "\n",
    "    # Подготовка данных\n",
    "    data_for_train_model = preprocess_data(data_load['nomen'])\n",
    "\n",
    "    #Обучение модели на подготовленных данных\n",
    "    model = models.Word2Vec(data_for_train_model, min_count=1)\n",
    "    model.save(model_path)\n",
    "\n",
    "    index2word_set = set(model.wv.index2word)\n",
    "\n",
    "\n",
    "    # Векторизация текста\n",
    "    a = []\n",
    "    i = len(data_load)-1\n",
    "    #print(data_load['nomen'][i]) # наш тестовый образец\n",
    "    for i in range(len(data_load)):\n",
    "        d = avg_vector(data_load['nomen'][i], model=model, num_features=100, index2word_set=index2word_set)\n",
    "        a.append(d)\n",
    "    \n",
    "    # Вычисление меры схожести заданной строки\n",
    "    simil = []\n",
    "    h = (len(a))-1\n",
    "    for i in range(len(data_load)):\n",
    "        similarity = int((100.0 - spatial.distance.cosine(a[h],a[i])*100))\n",
    "        simil.append(similarity)\n",
    "    # Добавление процентов\n",
    "    data_load.loc[:, 'proc'] = simil    \n",
    "\n",
    "    #Формирование ответа\n",
    "    data_load.drop(data_load.index[[len(data_load)-1]], inplace=True)\n",
    "    data_answer = data_load[['mdmcodenomen','proc']].sort_values(by='proc', ascending=[False])[:5]\n",
    "\n",
    "    dd = data_answer.to_json(orient = \"records\")\n",
    "    rr = ''\n",
    "    rr = '{\"id_request\": \"' + id_request + '\", \"content\": ' + dd + '}'\n",
    "\n",
    "    '''Если модель выдает более 10 номенклатур с рекомендацией > 95% или нет рекомендаций > 70% или количество данных для обучения меньше 20 - то считаем, что ответ не найден ''' \n",
    "    if len(data_load[data_load['proc'] > 95])>10 or len(data_load[data_load['proc'] > 70]) == 0 or len(data_load) < 20:\n",
    "        status = 400\n",
    "        answ = 'Нет ответа'\n",
    "    else:\n",
    "        status = 200\n",
    "        answ = rr  \n",
    "    print('\\n', answ, ', status = ',status)   \n",
    "    return status, answ"
   ]
  },
  {
   "cell_type": "code",
   "execution_count": 13,
   "metadata": {},
   "outputs": [
    {
     "name": "stdout",
     "output_type": "stream",
     "text": [
      "/?id_request=11111111111&mdmcodenomen=e80f28f0-1ae7-11eb-85b0-00232453feb3&nomen=\"nomen\":Двутавр 10Б1\n",
      "Запрос на обработку от 1С: \n",
      " id_request =  ['11111111111'] \n",
      " mdmcodenomen =  ['e80f28f0-1ae7-11eb-85b0-00232453feb3'] \n",
      " nomen =  ['\"nomen\":Двутавр 10Б1']\n",
      "Данные для модели загружены\n",
      "Обработка данных...\n"
     ]
    },
    {
     "ename": "AttributeError",
     "evalue": "'list' object has no attribute 'lower'",
     "output_type": "error",
     "traceback": [
      "\u001b[0;31m---------------------------------------------------------------------------\u001b[0m",
      "\u001b[0;31mAttributeError\u001b[0m                            Traceback (most recent call last)",
      "\u001b[0;32m<ipython-input-13-9f5c79b4d42d>\u001b[0m in \u001b[0;36m<module>\u001b[0;34m\u001b[0m\n\u001b[1;32m      1\u001b[0m \u001b[0mq\u001b[0m \u001b[0;34m=\u001b[0m \u001b[0;34m'/?id_request=11111111111&mdmcodenomen=e80f28f0-1ae7-11eb-85b0-00232453feb3&nomen=\"nomen\":Двутавр 10Б1'\u001b[0m\u001b[0;34m\u001b[0m\u001b[0;34m\u001b[0m\u001b[0m\n\u001b[0;32m----> 2\u001b[0;31m \u001b[0mstatus\u001b[0m\u001b[0;34m,\u001b[0m \u001b[0mansw\u001b[0m \u001b[0;34m=\u001b[0m \u001b[0mget_answ\u001b[0m\u001b[0;34m(\u001b[0m\u001b[0mq\u001b[0m\u001b[0;34m)\u001b[0m\u001b[0;34m\u001b[0m\u001b[0;34m\u001b[0m\u001b[0m\n\u001b[0m",
      "\u001b[0;32m<ipython-input-12-f7fe4e321333>\u001b[0m in \u001b[0;36mget_answ\u001b[0;34m(q)\u001b[0m\n\u001b[1;32m     20\u001b[0m \u001b[0;34m\u001b[0m\u001b[0m\n\u001b[1;32m     21\u001b[0m     \u001b[0;31m# Подготовка данных\u001b[0m\u001b[0;34m\u001b[0m\u001b[0;34m\u001b[0m\u001b[0;34m\u001b[0m\u001b[0m\n\u001b[0;32m---> 22\u001b[0;31m     \u001b[0mdata_for_train_model\u001b[0m \u001b[0;34m=\u001b[0m \u001b[0mpreprocess_data\u001b[0m\u001b[0;34m(\u001b[0m\u001b[0mdata_load\u001b[0m\u001b[0;34m[\u001b[0m\u001b[0;34m'nomen'\u001b[0m\u001b[0;34m]\u001b[0m\u001b[0;34m)\u001b[0m\u001b[0;34m\u001b[0m\u001b[0;34m\u001b[0m\u001b[0m\n\u001b[0m\u001b[1;32m     23\u001b[0m \u001b[0;34m\u001b[0m\u001b[0m\n\u001b[1;32m     24\u001b[0m     \u001b[0;31m#Обучение модели на подготовленных данных\u001b[0m\u001b[0;34m\u001b[0m\u001b[0;34m\u001b[0m\u001b[0;34m\u001b[0m\u001b[0m\n",
      "\u001b[0;32m<ipython-input-9-8c90224ddacb>\u001b[0m in \u001b[0;36mpreprocess_data\u001b[0;34m(sentences)\u001b[0m\n\u001b[1;32m      8\u001b[0m     \u001b[0mresult\u001b[0m \u001b[0;34m=\u001b[0m \u001b[0mlist\u001b[0m\u001b[0;34m(\u001b[0m\u001b[0;34m)\u001b[0m\u001b[0;34m\u001b[0m\u001b[0;34m\u001b[0m\u001b[0m\n\u001b[1;32m      9\u001b[0m     \u001b[0;32mfor\u001b[0m \u001b[0msentence\u001b[0m \u001b[0;32min\u001b[0m \u001b[0msentences\u001b[0m\u001b[0;34m:\u001b[0m\u001b[0;34m\u001b[0m\u001b[0;34m\u001b[0m\u001b[0m\n\u001b[0;32m---> 10\u001b[0;31m         \u001b[0mresult\u001b[0m\u001b[0;34m.\u001b[0m\u001b[0mappend\u001b[0m\u001b[0;34m(\u001b[0m\u001b[0mtokenize\u001b[0m\u001b[0;34m(\u001b[0m\u001b[0msentence\u001b[0m\u001b[0;34m)\u001b[0m\u001b[0;34m)\u001b[0m\u001b[0;34m\u001b[0m\u001b[0;34m\u001b[0m\u001b[0m\n\u001b[0m\u001b[1;32m     11\u001b[0m     \u001b[0;32mreturn\u001b[0m \u001b[0mresult\u001b[0m\u001b[0;34m\u001b[0m\u001b[0;34m\u001b[0m\u001b[0m\n\u001b[1;32m     12\u001b[0m \u001b[0;34m\u001b[0m\u001b[0m\n",
      "\u001b[0;32m<ipython-input-9-8c90224ddacb>\u001b[0m in \u001b[0;36mtokenize\u001b[0;34m(text)\u001b[0m\n\u001b[1;32m      1\u001b[0m \u001b[0;32mdef\u001b[0m \u001b[0mtokenize\u001b[0m\u001b[0;34m(\u001b[0m\u001b[0mtext\u001b[0m\u001b[0;34m)\u001b[0m\u001b[0;34m:\u001b[0m\u001b[0;34m\u001b[0m\u001b[0;34m\u001b[0m\u001b[0m\n\u001b[1;32m      2\u001b[0m     \u001b[0;31m#  Разбивает текст на токены\u001b[0m\u001b[0;34m\u001b[0m\u001b[0;34m\u001b[0m\u001b[0;34m\u001b[0m\u001b[0m\n\u001b[0;32m----> 3\u001b[0;31m     \u001b[0mtokens\u001b[0m \u001b[0;34m=\u001b[0m \u001b[0mnltk\u001b[0m\u001b[0;34m.\u001b[0m\u001b[0mword_tokenize\u001b[0m\u001b[0;34m(\u001b[0m\u001b[0mtext\u001b[0m\u001b[0;34m.\u001b[0m\u001b[0mlower\u001b[0m\u001b[0;34m(\u001b[0m\u001b[0;34m)\u001b[0m\u001b[0;34m)\u001b[0m\u001b[0;34m\u001b[0m\u001b[0;34m\u001b[0m\u001b[0m\n\u001b[0m\u001b[1;32m      4\u001b[0m     \u001b[0;32mreturn\u001b[0m \u001b[0mtokens\u001b[0m\u001b[0;34m\u001b[0m\u001b[0;34m\u001b[0m\u001b[0m\n\u001b[1;32m      5\u001b[0m \u001b[0;34m\u001b[0m\u001b[0m\n",
      "\u001b[0;31mAttributeError\u001b[0m: 'list' object has no attribute 'lower'"
     ]
    }
   ],
   "source": [
    "q = '/?id_request=05fb024f-e420-4c5d-8d8f-92567f201561&mdmcodenomen=e80f28c2-1ae7-11eb-85b0-00232453feb3&nomen=П/Ф%201766-1418-01-002%20Двутавр'\n",
    "status, answ = get_answ(q)"
   ]
  },
  {
   "cell_type": "code",
   "execution_count": null,
   "metadata": {},
   "outputs": [],
   "source": [
    "\n",
    "@Request.application\n",
    "def application(request):\n",
    "    #print request\n",
    "    #q = request.get_data(False, True, False) \n",
    "    q = request.get_data(False, False, False)\n",
    "    #q = request.get_json() 500\n",
    "    print(q)\n",
    "    #pp.pprint(q)\n",
    "    #a = '{\"id_request\": \"5243c597-af1a-4267-b30a-71ecd69951ec\", \"content\": [{\"mdmcodenomen\":\"043-00001-0546\",\"proc\":100},{\"mdmcodenomen\":\"043-00044-0546\",\"proc\":100},{\"mdmcodenomen\":\"043-00058-0555\",\"proc\":100},{\"mdmcodenomen\":\"043-00045-0555\",\"proc\":100},{\"mdmcodenomen\":\"043-00009-0555\",\"proc\":100}]}'\n",
    "    status, answ = get_answ(q)\n",
    "    #status = 200\n",
    "    return Response(answ, status=status)\n",
    "\n",
    "if __name__ == '__main__':\n",
    "    from werkzeug.serving import run_simple\n",
    "    #run_simple('localhost', 5000, application)\n",
    "    run_simple('10.0.0.6', 5000, application)"
   ]
  },
  {
   "cell_type": "code",
   "execution_count": null,
   "metadata": {},
   "outputs": [],
   "source": []
  }
 ],
 "metadata": {
  "kernelspec": {
   "display_name": "Python 3",
   "language": "python",
   "name": "python3"
  },
  "language_info": {
   "codemirror_mode": {
    "name": "ipython",
    "version": 3
   },
   "file_extension": ".py",
   "mimetype": "text/x-python",
   "name": "python",
   "nbconvert_exporter": "python",
   "pygments_lexer": "ipython3",
   "version": "3.7.7"
  }
 },
 "nbformat": 4,
 "nbformat_minor": 4
}
