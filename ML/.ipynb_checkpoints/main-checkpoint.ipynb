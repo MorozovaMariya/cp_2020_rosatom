{
 "cells": [
  {
   "cell_type": "code",
   "execution_count": 6,
   "metadata": {},
   "outputs": [
    {
     "name": "stderr",
     "output_type": "stream",
     "text": [
      " * Running on http://localhost:5000/ (Press CTRL+C to quit)\n",
      "127.0.0.1 - - [29/Oct/2020 13:37:20] \"\u001b[37mGET /?text=Сальник%20задней%20ступицы%2051-3104038В2%20/95Х130/%20ГАЗ&id_spr=1&guid=03d72a3d-5df5-4462-8363-4d641dc1999a HTTP/1.1\u001b[0m\" 200 -\n"
     ]
    },
    {
     "name": "stdout",
     "output_type": "stream",
     "text": [
      "\n"
     ]
    },
    {
     "name": "stderr",
     "output_type": "stream",
     "text": [
      "127.0.0.1 - - [29/Oct/2020 13:45:14] \"\u001b[37mPOST /?text=Сальник%20задней%20ступицы%2051-3104038В2%20/95Х130/%20ГАЗ&id_spr=1&guid=03d72a3d-5df5-4462-8363-4d641dc1999a HTTP/1.1\u001b[0m\" 200 -\n"
     ]
    },
    {
     "name": "stdout",
     "output_type": "stream",
     "text": [
      "\n"
     ]
    }
   ],
   "source": [
    "from werkzeug.wrappers import Request, Response\n",
    "#import pprint\n",
    "import json\n",
    "#pp = pprint.PrettyPrinter(indent=4)\n",
    "\n",
    "@Request.application\n",
    "def application(request):\n",
    "    #print request\n",
    "    q = request.get_data(False, True, False)\n",
    "    print(q)\n",
    "    #pp.pprint(q)\n",
    "    a = 'Привет 1С, Hello 1C'\n",
    "    return Response(str(a))\n",
    "\n",
    "if __name__ == '__main__':\n",
    "    from werkzeug.serving import run_simple\n",
    "    run_simple('localhost', 5000, application)"
   ]
  },
  {
   "cell_type": "code",
   "execution_count": null,
   "metadata": {},
   "outputs": [],
   "source": []
  }
 ],
 "metadata": {
  "kernelspec": {
   "display_name": "Python 3",
   "language": "python",
   "name": "python3"
  },
  "language_info": {
   "codemirror_mode": {
    "name": "ipython",
    "version": 3
   },
   "file_extension": ".py",
   "mimetype": "text/x-python",
   "name": "python",
   "nbconvert_exporter": "python",
   "pygments_lexer": "ipython3",
   "version": "3.7.7"
  }
 },
 "nbformat": 4,
 "nbformat_minor": 4
}
